{
 "cells": [
  {
   "cell_type": "code",
   "execution_count": 71,
   "metadata": {},
   "outputs": [],
   "source": [
    "import re\n",
    "import csv\n",
    "import numpy as np\n",
    "import pandas as pd\n",
    "import requests\n",
    "import urllib\n",
    "from pprint import pprint\n",
    "import matplotlib.pyplot as plt\n",
    "import seaborn as sns\n",
    "pd.set_option('display.max_columns',500)\n",
    "sns.set(style='ticks',color_codes=True)\n",
    "from sklearn import preprocessing"
   ]
  },
  {
   "cell_type": "code",
   "execution_count": 72,
   "metadata": {},
   "outputs": [
    {
     "name": "stderr",
     "output_type": "stream",
     "text": [
      "/Users/vanditnarula/anaconda3/lib/python3.6/site-packages/IPython/core/interactiveshell.py:3049: DtypeWarning: Columns (22) have mixed types. Specify dtype option on import or set low_memory=False.\n",
      "  interactivity=interactivity, compiler=compiler, result=result)\n"
     ]
    },
    {
     "data": {
      "text/plain": [
       "(328235, 26)"
      ]
     },
     "execution_count": 72,
     "metadata": {},
     "output_type": "execute_result"
    }
   ],
   "source": [
    "df = pd.read_csv(\"dataset kaggle bus cleaned 2.csv\")\n",
    "df.shape"
   ]
  },
  {
   "cell_type": "code",
   "execution_count": 73,
   "metadata": {},
   "outputs": [
    {
     "data": {
      "text/plain": [
       "Index(['School_Year', 'Busbreakdown_ID', 'Run_Type', 'Bus_No', 'Route_Number',\n",
       "       'Reason', 'Schools_Serviced', 'Occurred_On', 'day', 'time',\n",
       "       'hour of issue', 'datetime_text', 'Created_On', 'Boro',\n",
       "       'Bus_Company_Name', 'bus company name normalized', 'How_Long_Delayed',\n",
       "       'Number_Of_Students_On_The_Bus', 'Has_Contractor_Notified_Schools',\n",
       "       'Has_Contractor_Notified_Parents', 'Have_You_Alerted_OPT',\n",
       "       'Informed_On', 'Incident_Number', 'Last_Updated_On',\n",
       "       'Breakdown_or_Running_Late', 'School_Age_or_PreK'],\n",
       "      dtype='object')"
      ]
     },
     "execution_count": 73,
     "metadata": {},
     "output_type": "execute_result"
    }
   ],
   "source": [
    "df.columns"
   ]
  },
  {
   "cell_type": "code",
   "execution_count": 74,
   "metadata": {},
   "outputs": [
    {
     "data": {
      "text/html": [
       "<div>\n",
       "<style scoped>\n",
       "    .dataframe tbody tr th:only-of-type {\n",
       "        vertical-align: middle;\n",
       "    }\n",
       "\n",
       "    .dataframe tbody tr th {\n",
       "        vertical-align: top;\n",
       "    }\n",
       "\n",
       "    .dataframe thead th {\n",
       "        text-align: right;\n",
       "    }\n",
       "</style>\n",
       "<table border=\"1\" class=\"dataframe\">\n",
       "  <thead>\n",
       "    <tr style=\"text-align: right;\">\n",
       "      <th></th>\n",
       "      <th>School_Year</th>\n",
       "      <th>Busbreakdown_ID</th>\n",
       "      <th>Run_Type</th>\n",
       "      <th>Bus_No</th>\n",
       "      <th>Route_Number</th>\n",
       "      <th>Reason</th>\n",
       "      <th>Schools_Serviced</th>\n",
       "      <th>Occurred_On</th>\n",
       "      <th>day</th>\n",
       "      <th>time</th>\n",
       "      <th>hour of issue</th>\n",
       "      <th>datetime_text</th>\n",
       "      <th>Created_On</th>\n",
       "      <th>Boro</th>\n",
       "      <th>Bus_Company_Name</th>\n",
       "      <th>bus company name normalized</th>\n",
       "      <th>How_Long_Delayed</th>\n",
       "      <th>Number_Of_Students_On_The_Bus</th>\n",
       "      <th>Has_Contractor_Notified_Schools</th>\n",
       "      <th>Has_Contractor_Notified_Parents</th>\n",
       "      <th>Have_You_Alerted_OPT</th>\n",
       "      <th>Informed_On</th>\n",
       "      <th>Incident_Number</th>\n",
       "      <th>Last_Updated_On</th>\n",
       "      <th>Breakdown_or_Running_Late</th>\n",
       "      <th>School_Age_or_PreK</th>\n",
       "    </tr>\n",
       "  </thead>\n",
       "  <tbody>\n",
       "    <tr>\n",
       "      <th>0</th>\n",
       "      <td>2015-2016</td>\n",
       "      <td>1212699</td>\n",
       "      <td>Special Ed AM Run</td>\n",
       "      <td>48186</td>\n",
       "      <td>N758</td>\n",
       "      <td>Other</td>\n",
       "      <td>75485</td>\n",
       "      <td>2015-09-02T06:27:00</td>\n",
       "      <td>2015-09-02</td>\n",
       "      <td>06:27:00</td>\n",
       "      <td>6</td>\n",
       "      <td>2015-09-02 06:27:00</td>\n",
       "      <td>2015-09-02T06:29:00</td>\n",
       "      <td>Nassau County</td>\n",
       "      <td>BORO TRANSIT, INC.</td>\n",
       "      <td>BORO TRANSIT, INC.</td>\n",
       "      <td>25 minutes</td>\n",
       "      <td>0</td>\n",
       "      <td>Yes</td>\n",
       "      <td>No</td>\n",
       "      <td>No</td>\n",
       "      <td>2015-09-02T06:29:00</td>\n",
       "      <td>NaN</td>\n",
       "      <td>2015-09-02T06:29:16</td>\n",
       "      <td>Running Late</td>\n",
       "      <td>School-Age</td>\n",
       "    </tr>\n",
       "    <tr>\n",
       "      <th>1</th>\n",
       "      <td>2015-2016</td>\n",
       "      <td>1212700</td>\n",
       "      <td>Special Ed AM Run</td>\n",
       "      <td>2518</td>\n",
       "      <td>L530</td>\n",
       "      <td>Mechanical Problem</td>\n",
       "      <td>21854</td>\n",
       "      <td>2015-09-02T06:24:00</td>\n",
       "      <td>2015-09-02</td>\n",
       "      <td>06:24:00</td>\n",
       "      <td>6</td>\n",
       "      <td>2015-09-02 06:24:00</td>\n",
       "      <td>2015-09-02T06:30:00</td>\n",
       "      <td>Brooklyn</td>\n",
       "      <td>RELIANT TRANS, INC. (B232</td>\n",
       "      <td>RELIANT TRANS, INC.</td>\n",
       "      <td>NaN</td>\n",
       "      <td>0</td>\n",
       "      <td>Yes</td>\n",
       "      <td>Yes</td>\n",
       "      <td>Yes</td>\n",
       "      <td>2015-09-02T06:30:00</td>\n",
       "      <td>NaN</td>\n",
       "      <td>2015-09-02T06:30:19</td>\n",
       "      <td>Breakdown</td>\n",
       "      <td>School-Age</td>\n",
       "    </tr>\n",
       "    <tr>\n",
       "      <th>2</th>\n",
       "      <td>2015-2016</td>\n",
       "      <td>1212701</td>\n",
       "      <td>Special Ed AM Run</td>\n",
       "      <td>235</td>\n",
       "      <td>K168</td>\n",
       "      <td>Other</td>\n",
       "      <td>18366</td>\n",
       "      <td>2015-09-02T06:45:00</td>\n",
       "      <td>2015-09-02</td>\n",
       "      <td>06:45:00</td>\n",
       "      <td>6</td>\n",
       "      <td>2015-09-02 06:45:00</td>\n",
       "      <td>2015-09-02T06:47:00</td>\n",
       "      <td>Brooklyn</td>\n",
       "      <td>NEW DAWN TRANSIT, LLC (B2</td>\n",
       "      <td>NEW DAWN TRANSIT, LLC (B2</td>\n",
       "      <td>30MINS</td>\n",
       "      <td>0</td>\n",
       "      <td>Yes</td>\n",
       "      <td>Yes</td>\n",
       "      <td>No</td>\n",
       "      <td>2015-09-02T06:47:00</td>\n",
       "      <td>NaN</td>\n",
       "      <td>2015-09-02T08:05:39</td>\n",
       "      <td>Running Late</td>\n",
       "      <td>School-Age</td>\n",
       "    </tr>\n",
       "    <tr>\n",
       "      <th>3</th>\n",
       "      <td>2015-2016</td>\n",
       "      <td>1212703</td>\n",
       "      <td>Special Ed AM Run</td>\n",
       "      <td>2102</td>\n",
       "      <td>K216</td>\n",
       "      <td>Other</td>\n",
       "      <td>21501</td>\n",
       "      <td>2015-09-02T06:55:00</td>\n",
       "      <td>2015-09-02</td>\n",
       "      <td>06:55:00</td>\n",
       "      <td>6</td>\n",
       "      <td>2015-09-02 06:55:00</td>\n",
       "      <td>2015-09-02T07:02:00</td>\n",
       "      <td>Brooklyn</td>\n",
       "      <td>EMPIRE STATE BUS CORP.</td>\n",
       "      <td>EMPIRE STATE BUS CORP.</td>\n",
       "      <td>20 min</td>\n",
       "      <td>1</td>\n",
       "      <td>Yes</td>\n",
       "      <td>Yes</td>\n",
       "      <td>No</td>\n",
       "      <td>2015-09-02T07:02:00</td>\n",
       "      <td>NaN</td>\n",
       "      <td>2015-09-02T07:02:01</td>\n",
       "      <td>Running Late</td>\n",
       "      <td>School-Age</td>\n",
       "    </tr>\n",
       "    <tr>\n",
       "      <th>4</th>\n",
       "      <td>2015-2016</td>\n",
       "      <td>1212704</td>\n",
       "      <td>Special Ed AM Run</td>\n",
       "      <td>48162</td>\n",
       "      <td>N861</td>\n",
       "      <td>Mechanical Problem</td>\n",
       "      <td>75485</td>\n",
       "      <td>2015-09-02T06:55:00</td>\n",
       "      <td>2015-09-02</td>\n",
       "      <td>06:55:00</td>\n",
       "      <td>6</td>\n",
       "      <td>2015-09-02 06:55:00</td>\n",
       "      <td>2015-09-02T07:04:00</td>\n",
       "      <td>Nassau County</td>\n",
       "      <td>BORO TRANSIT, INC.</td>\n",
       "      <td>BORO TRANSIT, INC.</td>\n",
       "      <td>30 min</td>\n",
       "      <td>0</td>\n",
       "      <td>Yes</td>\n",
       "      <td>Yes</td>\n",
       "      <td>No</td>\n",
       "      <td>2015-09-02T07:04:00</td>\n",
       "      <td>NaN</td>\n",
       "      <td>2015-09-02T07:04:25</td>\n",
       "      <td>Running Late</td>\n",
       "      <td>School-Age</td>\n",
       "    </tr>\n",
       "  </tbody>\n",
       "</table>\n",
       "</div>"
      ],
      "text/plain": [
       "  School_Year  Busbreakdown_ID           Run_Type Bus_No Route_Number  \\\n",
       "0   2015-2016          1212699  Special Ed AM Run  48186         N758   \n",
       "1   2015-2016          1212700  Special Ed AM Run   2518         L530   \n",
       "2   2015-2016          1212701  Special Ed AM Run    235         K168   \n",
       "3   2015-2016          1212703  Special Ed AM Run   2102         K216   \n",
       "4   2015-2016          1212704  Special Ed AM Run  48162         N861   \n",
       "\n",
       "               Reason Schools_Serviced          Occurred_On         day  \\\n",
       "0               Other            75485  2015-09-02T06:27:00  2015-09-02   \n",
       "1  Mechanical Problem            21854  2015-09-02T06:24:00  2015-09-02   \n",
       "2               Other            18366  2015-09-02T06:45:00  2015-09-02   \n",
       "3               Other            21501  2015-09-02T06:55:00  2015-09-02   \n",
       "4  Mechanical Problem            75485  2015-09-02T06:55:00  2015-09-02   \n",
       "\n",
       "       time  hour of issue        datetime_text           Created_On  \\\n",
       "0  06:27:00              6  2015-09-02 06:27:00  2015-09-02T06:29:00   \n",
       "1  06:24:00              6  2015-09-02 06:24:00  2015-09-02T06:30:00   \n",
       "2  06:45:00              6  2015-09-02 06:45:00  2015-09-02T06:47:00   \n",
       "3  06:55:00              6  2015-09-02 06:55:00  2015-09-02T07:02:00   \n",
       "4  06:55:00              6  2015-09-02 06:55:00  2015-09-02T07:04:00   \n",
       "\n",
       "            Boro           Bus_Company_Name bus company name normalized  \\\n",
       "0  Nassau County         BORO TRANSIT, INC.          BORO TRANSIT, INC.   \n",
       "1       Brooklyn  RELIANT TRANS, INC. (B232         RELIANT TRANS, INC.   \n",
       "2       Brooklyn  NEW DAWN TRANSIT, LLC (B2   NEW DAWN TRANSIT, LLC (B2   \n",
       "3       Brooklyn     EMPIRE STATE BUS CORP.      EMPIRE STATE BUS CORP.   \n",
       "4  Nassau County         BORO TRANSIT, INC.          BORO TRANSIT, INC.   \n",
       "\n",
       "  How_Long_Delayed  Number_Of_Students_On_The_Bus  \\\n",
       "0       25 minutes                              0   \n",
       "1              NaN                              0   \n",
       "2           30MINS                              0   \n",
       "3           20 min                              1   \n",
       "4           30 min                              0   \n",
       "\n",
       "  Has_Contractor_Notified_Schools Has_Contractor_Notified_Parents  \\\n",
       "0                             Yes                              No   \n",
       "1                             Yes                             Yes   \n",
       "2                             Yes                             Yes   \n",
       "3                             Yes                             Yes   \n",
       "4                             Yes                             Yes   \n",
       "\n",
       "  Have_You_Alerted_OPT          Informed_On Incident_Number  \\\n",
       "0                   No  2015-09-02T06:29:00             NaN   \n",
       "1                  Yes  2015-09-02T06:30:00             NaN   \n",
       "2                   No  2015-09-02T06:47:00             NaN   \n",
       "3                   No  2015-09-02T07:02:00             NaN   \n",
       "4                   No  2015-09-02T07:04:00             NaN   \n",
       "\n",
       "       Last_Updated_On Breakdown_or_Running_Late School_Age_or_PreK  \n",
       "0  2015-09-02T06:29:16              Running Late         School-Age  \n",
       "1  2015-09-02T06:30:19                 Breakdown         School-Age  \n",
       "2  2015-09-02T08:05:39              Running Late         School-Age  \n",
       "3  2015-09-02T07:02:01              Running Late         School-Age  \n",
       "4  2015-09-02T07:04:25              Running Late         School-Age  "
      ]
     },
     "execution_count": 74,
     "metadata": {},
     "output_type": "execute_result"
    }
   ],
   "source": [
    "df.head()"
   ]
  },
  {
   "cell_type": "code",
   "execution_count": 75,
   "metadata": {},
   "outputs": [],
   "source": [
    "df_runlate = df[df['Breakdown_or_Running_Late']=='Running Late']"
   ]
  },
  {
   "cell_type": "code",
   "execution_count": null,
   "metadata": {},
   "outputs": [],
   "source": []
  },
  {
   "cell_type": "code",
   "execution_count": 76,
   "metadata": {},
   "outputs": [
    {
     "data": {
      "text/html": [
       "<div>\n",
       "<style scoped>\n",
       "    .dataframe tbody tr th:only-of-type {\n",
       "        vertical-align: middle;\n",
       "    }\n",
       "\n",
       "    .dataframe tbody tr th {\n",
       "        vertical-align: top;\n",
       "    }\n",
       "\n",
       "    .dataframe thead th {\n",
       "        text-align: right;\n",
       "    }\n",
       "</style>\n",
       "<table border=\"1\" class=\"dataframe\">\n",
       "  <thead>\n",
       "    <tr style=\"text-align: right;\">\n",
       "      <th></th>\n",
       "      <th>Busbreakdown_ID</th>\n",
       "      <th>hour of issue</th>\n",
       "      <th>Number_Of_Students_On_The_Bus</th>\n",
       "    </tr>\n",
       "  </thead>\n",
       "  <tbody>\n",
       "    <tr>\n",
       "      <th>count</th>\n",
       "      <td>3.282350e+05</td>\n",
       "      <td>328235.000000</td>\n",
       "      <td>328235.000000</td>\n",
       "    </tr>\n",
       "    <tr>\n",
       "      <th>mean</th>\n",
       "      <td>1.380236e+06</td>\n",
       "      <td>8.229915</td>\n",
       "      <td>3.316267</td>\n",
       "    </tr>\n",
       "    <tr>\n",
       "      <th>std</th>\n",
       "      <td>9.737868e+04</td>\n",
       "      <td>3.107067</td>\n",
       "      <td>66.306166</td>\n",
       "    </tr>\n",
       "    <tr>\n",
       "      <th>min</th>\n",
       "      <td>1.212681e+06</td>\n",
       "      <td>0.000000</td>\n",
       "      <td>0.000000</td>\n",
       "    </tr>\n",
       "    <tr>\n",
       "      <th>25%</th>\n",
       "      <td>1.295976e+06</td>\n",
       "      <td>6.000000</td>\n",
       "      <td>0.000000</td>\n",
       "    </tr>\n",
       "    <tr>\n",
       "      <th>50%</th>\n",
       "      <td>1.379091e+06</td>\n",
       "      <td>7.000000</td>\n",
       "      <td>0.000000</td>\n",
       "    </tr>\n",
       "    <tr>\n",
       "      <th>75%</th>\n",
       "      <td>1.466678e+06</td>\n",
       "      <td>8.000000</td>\n",
       "      <td>3.000000</td>\n",
       "    </tr>\n",
       "    <tr>\n",
       "      <th>max</th>\n",
       "      <td>1.548737e+06</td>\n",
       "      <td>23.000000</td>\n",
       "      <td>9052.000000</td>\n",
       "    </tr>\n",
       "  </tbody>\n",
       "</table>\n",
       "</div>"
      ],
      "text/plain": [
       "       Busbreakdown_ID  hour of issue  Number_Of_Students_On_The_Bus\n",
       "count     3.282350e+05  328235.000000                  328235.000000\n",
       "mean      1.380236e+06       8.229915                       3.316267\n",
       "std       9.737868e+04       3.107067                      66.306166\n",
       "min       1.212681e+06       0.000000                       0.000000\n",
       "25%       1.295976e+06       6.000000                       0.000000\n",
       "50%       1.379091e+06       7.000000                       0.000000\n",
       "75%       1.466678e+06       8.000000                       3.000000\n",
       "max       1.548737e+06      23.000000                    9052.000000"
      ]
     },
     "execution_count": 76,
     "metadata": {},
     "output_type": "execute_result"
    }
   ],
   "source": [
    "df.describe()"
   ]
  },
  {
   "cell_type": "code",
   "execution_count": 77,
   "metadata": {},
   "outputs": [
    {
     "name": "stdout",
     "output_type": "stream",
     "text": [
      "<class 'pandas.core.frame.DataFrame'>\n",
      "RangeIndex: 328235 entries, 0 to 328234\n",
      "Data columns (total 26 columns):\n",
      "School_Year                        328235 non-null object\n",
      "Busbreakdown_ID                    328235 non-null int64\n",
      "Run_Type                           328232 non-null object\n",
      "Bus_No                             328225 non-null object\n",
      "Route_Number                       328228 non-null object\n",
      "Reason                             328233 non-null object\n",
      "Schools_Serviced                   328228 non-null object\n",
      "Occurred_On                        328235 non-null object\n",
      "day                                328235 non-null object\n",
      "time                               328235 non-null object\n",
      "hour of issue                      328235 non-null int64\n",
      "datetime_text                      328235 non-null object\n",
      "Created_On                         328235 non-null object\n",
      "Boro                               317077 non-null object\n",
      "Bus_Company_Name                   328235 non-null object\n",
      "bus company name normalized        328235 non-null object\n",
      "How_Long_Delayed                   288749 non-null object\n",
      "Number_Of_Students_On_The_Bus      328235 non-null int64\n",
      "Has_Contractor_Notified_Schools    328235 non-null object\n",
      "Has_Contractor_Notified_Parents    328235 non-null object\n",
      "Have_You_Alerted_OPT               328235 non-null object\n",
      "Informed_On                        328235 non-null object\n",
      "Incident_Number                    9844 non-null object\n",
      "Last_Updated_On                    328235 non-null object\n",
      "Breakdown_or_Running_Late          328235 non-null object\n",
      "School_Age_or_PreK                 328235 non-null object\n",
      "dtypes: int64(3), object(23)\n",
      "memory usage: 65.1+ MB\n"
     ]
    }
   ],
   "source": [
    "df.info()\n",
    "#Incident_Number and Boro are low on numbers of rows - INCIDEN NUMBER NOT NECCESSARY \n",
    "#Convert school to day/time object \n",
    "#Look into reason \n",
    "#TARGET IS Breakdown_or_running_late"
   ]
  },
  {
   "cell_type": "code",
   "execution_count": 78,
   "metadata": {},
   "outputs": [
    {
     "data": {
      "text/plain": [
       "1102          2710956\n",
       "1442          2737089\n",
       "1509          2728990\n",
       "1987          2725956\n",
       "2177          2747045\n",
       "2366          2783571\n",
       "3254          2787061\n",
       "3611          2784166\n",
       "3779          2787899\n",
       "4094          2710619\n",
       "4660          2731470\n",
       "4935          2741136\n",
       "5935          2715862\n",
       "6055          2786417\n",
       "6392          2824627\n",
       "6505          2830853\n",
       "6508          2830824\n",
       "6530          2830846\n",
       "6536          2830847\n",
       "6565          2830876\n",
       "6595          2830881\n",
       "6600          2830880\n",
       "6671          2830917\n",
       "6719          2830933\n",
       "6732          2830980\n",
       "6750          2831564\n",
       "6752          2831557\n",
       "6756          2831581\n",
       "6787          2831812\n",
       "6791          2831814\n",
       "             ...     \n",
       "321865     9.0828e+07\n",
       "321915     9.0828e+07\n",
       "322559     9.0829e+07\n",
       "322627     9.0829e+07\n",
       "322654    9.08290e+07\n",
       "322700    9.08295e+07\n",
       "322802    9.08296e+07\n",
       "323098      9.083e+07\n",
       "323202    9.08304e+07\n",
       "323235    9.08305e+07\n",
       "323327    9.08307e+07\n",
       "323634    9.08312e+07\n",
       "323644    9.08313e+07\n",
       "323694    9.08318e+07\n",
       "324411    9.08332e+07\n",
       "324567    9.08336e+07\n",
       "324665    9.08336e+07\n",
       "324812    9.08337e+07\n",
       "324996    9.08344e+07\n",
       "325398    9.08349e+07\n",
       "325559    9.08354e+07\n",
       "325563    9.08354e+08\n",
       "325743    9.08357e+07\n",
       "325894    9.08358e+07\n",
       "326127    9.08366e+07\n",
       "326283    9.08366e+07\n",
       "326435    9.08368e+07\n",
       "327591    9.08391e+07\n",
       "327719    9.08393e+07\n",
       "327920    9.08395e+07\n",
       "Name: Incident_Number, Length: 9844, dtype: object"
      ]
     },
     "execution_count": 78,
     "metadata": {},
     "output_type": "execute_result"
    }
   ],
   "source": [
    "df.Incident_Number.dropna()\n",
    "#INCIDENT NUMBER NOT SHOWING UP FOR EACH ROW. Not neccessary \n",
    "#There is only incident numbers for 9844 out of 328,235 "
   ]
  },
  {
   "cell_type": "code",
   "execution_count": 79,
   "metadata": {},
   "outputs": [],
   "source": [
    "df = df.drop('Incident_Number', axis=1)\n",
    "#REMOVED INCIDENT NUMBER FROM CSV FILE"
   ]
  },
  {
   "cell_type": "code",
   "execution_count": 80,
   "metadata": {},
   "outputs": [
    {
     "name": "stdout",
     "output_type": "stream",
     "text": [
      "<class 'pandas.core.frame.DataFrame'>\n",
      "RangeIndex: 328235 entries, 0 to 328234\n",
      "Data columns (total 25 columns):\n",
      "School_Year                        328235 non-null object\n",
      "Busbreakdown_ID                    328235 non-null int64\n",
      "Run_Type                           328232 non-null object\n",
      "Bus_No                             328225 non-null object\n",
      "Route_Number                       328228 non-null object\n",
      "Reason                             328233 non-null object\n",
      "Schools_Serviced                   328228 non-null object\n",
      "Occurred_On                        328235 non-null object\n",
      "day                                328235 non-null object\n",
      "time                               328235 non-null object\n",
      "hour of issue                      328235 non-null int64\n",
      "datetime_text                      328235 non-null object\n",
      "Created_On                         328235 non-null object\n",
      "Boro                               317077 non-null object\n",
      "Bus_Company_Name                   328235 non-null object\n",
      "bus company name normalized        328235 non-null object\n",
      "How_Long_Delayed                   288749 non-null object\n",
      "Number_Of_Students_On_The_Bus      328235 non-null int64\n",
      "Has_Contractor_Notified_Schools    328235 non-null object\n",
      "Has_Contractor_Notified_Parents    328235 non-null object\n",
      "Have_You_Alerted_OPT               328235 non-null object\n",
      "Informed_On                        328235 non-null object\n",
      "Last_Updated_On                    328235 non-null object\n",
      "Breakdown_or_Running_Late          328235 non-null object\n",
      "School_Age_or_PreK                 328235 non-null object\n",
      "dtypes: int64(3), object(22)\n",
      "memory usage: 62.6+ MB\n"
     ]
    }
   ],
   "source": [
    "df.info()"
   ]
  },
  {
   "cell_type": "code",
   "execution_count": 81,
   "metadata": {},
   "outputs": [
    {
     "data": {
      "text/plain": [
       "1         4373\n",
       "2         3203\n",
       "3         2740\n",
       "5         2708\n",
       "4         1614\n",
       "6         1256\n",
       "7          989\n",
       "8          747\n",
       "M978       527\n",
       "M261       507\n",
       "M545       493\n",
       "M617       460\n",
       "M965       454\n",
       "M950       443\n",
       "M671       406\n",
       "M966       394\n",
       "M895       383\n",
       "M795       381\n",
       "M983       373\n",
       "M604       370\n",
       "M817       357\n",
       "9          356\n",
       "M984       355\n",
       "M922       354\n",
       "M605       349\n",
       "M659       347\n",
       "K293       344\n",
       "M886       343\n",
       "18         341\n",
       "M788       340\n",
       "          ... \n",
       "K9652        1\n",
       "Q2978        1\n",
       "B0441Z       1\n",
       "B0112Z       1\n",
       "Q9747        1\n",
       "X8592        1\n",
       "Q3113        1\n",
       "X2246        1\n",
       "PK-319       1\n",
       "R635         1\n",
       "K8038        1\n",
       "3601Z        1\n",
       "34MD         1\n",
       "3318Z        1\n",
       "B0409Z       1\n",
       "Q9363        1\n",
       "B0563Z       1\n",
       "961A         1\n",
       "Q2722        1\n",
       "K911         1\n",
       "Q224         1\n",
       "5604B        1\n",
       "CK 4         1\n",
       "Q9437        1\n",
       "B0973X       1\n",
       "P902         1\n",
       "0110Z        1\n",
       "Y624         1\n",
       "46MD         1\n",
       "RX810        1\n",
       "Name: Route_Number, Length: 13260, dtype: int64"
      ]
     },
     "execution_count": 81,
     "metadata": {},
     "output_type": "execute_result"
    }
   ],
   "source": [
    "df.Route_Number.value_counts()"
   ]
  },
  {
   "cell_type": "code",
   "execution_count": 82,
   "metadata": {},
   "outputs": [
    {
     "data": {
      "text/plain": [
       "Text(0.5, 1.0, 'Reason for Late or Broken Down')"
      ]
     },
     "execution_count": 82,
     "metadata": {},
     "output_type": "execute_result"
    },
    {
     "data": {
      "image/png": "[encoded data removed]",
      "text/plain": [
       "<Figure size 432x288 with 1 Axes>"
      ]
     },
     "metadata": {},
     "output_type": "display_data"
    }
   ],
   "source": [
    "df.Reason.value_counts().plot(kind='bar')\n",
    "plt.ylabel('Frequency')\n",
    "plt.xlabel('Reason')\n",
    "plt.title('Reason for Late or Broken Down')"
   ]
  },
  {
   "cell_type": "code",
   "execution_count": 83,
   "metadata": {},
   "outputs": [],
   "source": [
    "df_breakdown = df[df['Breakdown_or_Running_Late'] == 'Breakdown']"
   ]
  },
  {
   "cell_type": "code",
   "execution_count": 84,
   "metadata": {},
   "outputs": [],
   "source": [
    "df_RunningLate = df[df['Breakdown_or_Running_Late'] == 'Running_Late']"
   ]
  },
  {
   "cell_type": "code",
   "execution_count": null,
   "metadata": {},
   "outputs": [],
   "source": []
  },
  {
   "cell_type": "code",
   "execution_count": null,
   "metadata": {},
   "outputs": [],
   "source": []
  },
  {
   "cell_type": "code",
   "execution_count": 85,
   "metadata": {},
   "outputs": [
    {
     "data": {
      "text/plain": [
       "<matplotlib.axes._subplots.AxesSubplot at 0x1a4c1daf98>"
      ]
     },
     "execution_count": 85,
     "metadata": {},
     "output_type": "execute_result"
    },
    {
     "data": {
      "image/png": "[encoded data removed]",
      "text/plain": [
       "<Figure size 432x288 with 1 Axes>"
      ]
     },
     "metadata": {},
     "output_type": "display_data"
    }
   ],
   "source": [
    "target_runtype = df.groupby(['Run_Type', 'Breakdown_or_Running_Late']).size()\n",
    "target_runtype.unstack().plot(kind='bar', stacked=True, grid=False)\n",
    "\n",
    "#show it with time "
   ]
  },
  {
   "cell_type": "code",
   "execution_count": 86,
   "metadata": {},
   "outputs": [
    {
     "data": {
      "text/plain": [
       "<matplotlib.axes._subplots.AxesSubplot at 0x1a4adde6a0>"
      ]
     },
     "execution_count": 86,
     "metadata": {},
     "output_type": "execute_result"
    },
    {
     "data": {
      "image/png": "[encoded data removed]",
      "text/plain": [
       "<Figure size 432x288 with 1 Axes>"
      ]
     },
     "metadata": {},
     "output_type": "display_data"
    }
   ],
   "source": [
    "target_runtype = df.groupby(['Reason', 'Breakdown_or_Running_Late']).size()\n",
    "target_runtype.unstack().plot(kind='bar', stacked=True, grid=False)"
   ]
  },
  {
   "cell_type": "code",
   "execution_count": 87,
   "metadata": {},
   "outputs": [
    {
     "data": {
      "text/plain": [
       "<matplotlib.axes._subplots.AxesSubplot at 0x1a49522c50>"
      ]
     },
     "execution_count": 87,
     "metadata": {},
     "output_type": "execute_result"
    },
    {
     "data": {
      "image/png": "[encoded data removed]",
      "text/plain": [
       "<Figure size 432x288 with 1 Axes>"
      ]
     },
     "metadata": {},
     "output_type": "display_data"
    }
   ],
   "source": [
    "df.Run_Type.value_counts().plot(kind='bar')"
   ]
  },
  {
   "cell_type": "code",
   "execution_count": 94,
   "metadata": {},
   "outputs": [
    {
     "data": {
      "text/plain": [
       "860"
      ]
     },
     "execution_count": 94,
     "metadata": {},
     "output_type": "execute_result"
    }
   ],
   "source": [
    "len(df['day'].unique())"
   ]
  },
  {
   "cell_type": "code",
   "execution_count": 98,
   "metadata": {},
   "outputs": [],
   "source": [
    "df = df.drop('Busbreakdown_ID',axis=1)"
   ]
  },
  {
   "cell_type": "code",
   "execution_count": 101,
   "metadata": {},
   "outputs": [],
   "source": [
    "df = df.drop('Occurred_On', axis=1)"
   ]
  },
  {
   "cell_type": "code",
   "execution_count": 102,
   "metadata": {},
   "outputs": [],
   "source": [
    "df = df.drop('datetime_text', axis=1)"
   ]
  },
  {
   "cell_type": "code",
   "execution_count": 105,
   "metadata": {},
   "outputs": [],
   "source": [
    "df = df.drop('Bus_Company_Name',axis=1)"
   ]
  },
  {
   "cell_type": "code",
   "execution_count": 106,
   "metadata": {},
   "outputs": [
    {
     "name": "stdout",
     "output_type": "stream",
     "text": [
      "<class 'pandas.core.frame.DataFrame'>\n",
      "RangeIndex: 328235 entries, 0 to 328234\n",
      "Data columns (total 21 columns):\n",
      "School_Year                        328235 non-null object\n",
      "Run_Type                           328232 non-null object\n",
      "Bus_No                             328225 non-null object\n",
      "Route_Number                       328228 non-null object\n",
      "Reason                             328233 non-null object\n",
      "Schools_Serviced                   328228 non-null object\n",
      "day                                328235 non-null object\n",
      "time                               328235 non-null object\n",
      "hour of issue                      328235 non-null int64\n",
      "Created_On                         328235 non-null object\n",
      "Boro                               317077 non-null object\n",
      "bus company name normalized        328235 non-null object\n",
      "How_Long_Delayed                   288749 non-null object\n",
      "Number_Of_Students_On_The_Bus      328235 non-null int64\n",
      "Has_Contractor_Notified_Schools    328235 non-null object\n",
      "Has_Contractor_Notified_Parents    328235 non-null object\n",
      "Have_You_Alerted_OPT               328235 non-null object\n",
      "Informed_On                        328235 non-null object\n",
      "Last_Updated_On                    328235 non-null object\n",
      "Breakdown_or_Running_Late          328235 non-null object\n",
      "School_Age_or_PreK                 328235 non-null object\n",
      "dtypes: int64(2), object(19)\n",
      "memory usage: 52.6+ MB\n"
     ]
    }
   ],
   "source": [
    "df.info()"
   ]
  },
  {
   "cell_type": "code",
   "execution_count": 108,
   "metadata": {},
   "outputs": [
    {
     "data": {
      "text/plain": [
       "LEESEL TRANSP CORP (B2192    51281\n",
       "RELIANT TRANS, INC.          30967\n",
       "G.V.C., LTD.                 27313\n",
       "PIONEER TRANSPORTATION CO    26290\n",
       "NEW DAWN TRANSIT, LLC (B2    16542\n",
       "Name: bus company name normalized, dtype: int64"
      ]
     },
     "execution_count": 108,
     "metadata": {},
     "output_type": "execute_result"
    }
   ],
   "source": [
    "df['bus company name normalized'].value_counts().head(5)\n",
    "\n",
    "#top 5 companies "
   ]
  },
  {
   "cell_type": "code",
   "execution_count": 111,
   "metadata": {},
   "outputs": [
    {
     "data": {
      "text/plain": [
       "LITTLE RICHIE BUS SERVICE    5944\n",
       "LOGAN BUS COMPANY INC.       3470\n",
       "RELIANT TRANS, INC.          3245\n",
       "LITTLE LISA BUS CO. INC.     2311\n",
       "LORINDA ENT. LTD.            2066\n",
       "Name: bus company name normalized, dtype: int64"
      ]
     },
     "execution_count": 111,
     "metadata": {},
     "output_type": "execute_result"
    }
   ],
   "source": [
    "df_breakdown['bus company name normalized'].value_counts().head()"
   ]
  },
  {
   "cell_type": "code",
   "execution_count": 116,
   "metadata": {},
   "outputs": [
    {
     "data": {
      "text/plain": [
       "LEESEL TRANSP CORP (B2192    50759\n",
       "RELIANT TRANS, INC.          27722\n",
       "G.V.C., LTD.                 26566\n",
       "PIONEER TRANSPORTATION CO    26270\n",
       "NEW DAWN TRANSIT, LLC (B2    15593\n",
       "Name: bus company name normalized, dtype: int64"
      ]
     },
     "execution_count": 116,
     "metadata": {},
     "output_type": "execute_result"
    }
   ],
   "source": [
    "df_runlate['bus company name normalized'].value_counts().head()"
   ]
  },
  {
   "cell_type": "code",
   "execution_count": 118,
   "metadata": {},
   "outputs": [],
   "source": [
    "df = df.dropna()"
   ]
  },
  {
   "cell_type": "code",
   "execution_count": 129,
   "metadata": {},
   "outputs": [
    {
     "data": {
      "text/plain": [
       "0         25 minutes\n",
       "2                 30\n",
       "3             20 min\n",
       "4             30 min\n",
       "7             90 MIN\n",
       "8                20 \n",
       "9                 20\n",
       "10           30 mins\n",
       "11               15 \n",
       "12            20 MIN\n",
       "13           15 mins\n",
       "15            30 min\n",
       "16               30 \n",
       "18                25\n",
       "19                 0\n",
       "20                20\n",
       "22           10 mins\n",
       "23                20\n",
       "24            25 min\n",
       "25           15 mins\n",
       "26           15 mins\n",
       "27            20 min\n",
       "28               1hr\n",
       "29           20 mins\n",
       "31            30 min\n",
       "32                20\n",
       "33               1hr\n",
       "34        15 minutes\n",
       "35            25 MIN\n",
       "37                45\n",
       "             ...    \n",
       "328200     31-45 Min\n",
       "328202     31-45 Min\n",
       "328205     61-90 Min\n",
       "328206     31-45 Min\n",
       "328208     16-30 Min\n",
       "328209     16-30 Min\n",
       "328210     31-45 Min\n",
       "328211     31-45 Min\n",
       "328212     31-45 Min\n",
       "328214     16-30 Min\n",
       "328215     31-45 Min\n",
       "328216     16-30 Min\n",
       "328217     16-30 Min\n",
       "328218     31-45 Min\n",
       "328219     16-30 Min\n",
       "328220     31-45 Min\n",
       "328221     31-45 Min\n",
       "328222     31-45 Min\n",
       "328223      0-15 Min\n",
       "328224      0-15 Min\n",
       "328225      0-15 Min\n",
       "328226     31-45 Min\n",
       "328227     31-45 Min\n",
       "328228     31-45 Min\n",
       "328229      0-15 Min\n",
       "328230     46-60 Min\n",
       "328231     31-45 Min\n",
       "328232     31-45 Min\n",
       "328233      0-15 Min\n",
       "328234     31-45 Min\n",
       "Name: How_Long_Delayed, Length: 278679, dtype: object"
      ]
     },
     "execution_count": 129,
     "metadata": {},
     "output_type": "execute_result"
    }
   ],
   "source": [
    "df['How_Long_Delayed'].str.replace('minutes','')\n",
    "df['How_Long_Delayed'].str.replace('MINS','')\n",
    "df['How_Long_Delayed'].str.replace('min','')\n",
    "df['How_Long_Delayed'].str.replace('minutes','')\n",
    "df['How_Long_Delayed'].str.replace('mins','')\n",
    "df['How_Long_Delayed'].str.replace('MINS','')"
   ]
  },
  {
   "cell_type": "code",
   "execution_count": null,
   "metadata": {},
   "outputs": [],
   "source": []
  }
 ],
 "metadata": {
  "kernelspec": {
   "display_name": "Python 3",
   "language": "python",
   "name": "python3"
  },
  "language_info": {
   "codemirror_mode": {
    "name": "ipython",
    "version": 3
   },
   "file_extension": ".py",
   "mimetype": "text/x-python",
   "name": "python",
   "nbconvert_exporter": "python",
   "pygments_lexer": "ipython3",
   "version": "3.6.8"
  }
 },
 "nbformat": 4,
 "nbformat_minor": 2
}
